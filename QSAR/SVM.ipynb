{
 "cells": [
  {
   "cell_type": "code",
   "execution_count": null,
   "metadata": {},
   "outputs": [],
   "source": [
    "import pandas as pd\n",
    "from rdkit import Chem\n",
    "from rdkit.Chem import AllChem\n",
    "from sklearn.ensemble import RandomForestRegressor"
   ]
  },
  {
   "cell_type": "code",
   "execution_count": null,
   "metadata": {},
   "outputs": [],
   "source": [
    "df = pd.read_csv('train.csv')\n",
    "X = [Chem.MolFromSmiles(smiles) for smiles in df['Smiles']]\n",
    "y = df['Standard Value'].values\n",
    "\n",
    "X_ecfp = [AllChem.GetMorganFingerprintAsBitVect(mol, 2) for mol in X]"
   ]
  },
  {
   "cell_type": "code",
   "execution_count": null,
   "metadata": {},
   "outputs": [],
   "source": [
    "model = RandomForestRegressor()\n",
    "model.fit(X_ecfp, y)"
   ]
  },
  {
   "cell_type": "code",
   "execution_count": null,
   "metadata": {},
   "outputs": [],
   "source": [
    "X_test = [Chem.MolFromSmiles('NC1=NC(C(NC2=CC=CC=N2)=O)=CN3C1=NC4=CC=CC=C34')]\n",
    "X_test_ecfp = [AllChem.GetMorganFingerprintAsBitVect(mol, 2) for mol in X_test]\n",
    "y_pred = model.predict(X_test_ecfp)\n",
    "print(y_pred) "
   ]
  }
 ],
 "metadata": {
  "language_info": {
   "name": "python"
  },
  "orig_nbformat": 4
 },
 "nbformat": 4,
 "nbformat_minor": 2
}
