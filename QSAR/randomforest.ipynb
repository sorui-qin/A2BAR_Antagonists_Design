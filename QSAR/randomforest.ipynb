{
 "cells": [
  {
   "cell_type": "code",
   "execution_count": 1,
   "metadata": {},
   "outputs": [],
   "source": [
    "%matplotlib inline\n",
    "import pandas as pd\n",
    "from rdkit import Chem\n",
    "from rdkit.Chem import AllChem\n",
    "import matplotlib.pyplot as plt\n",
    "from sklearn.ensemble import RandomForestClassifier\n",
    "from sklearn.model_selection import train_test_split"
   ]
  },
  {
   "cell_type": "code",
   "execution_count": 2,
   "metadata": {},
   "outputs": [],
   "source": [
    "df_train = pd.read_csv('train.csv')\n",
    "X_t = [Chem.MolFromSmiles(smiles) for smiles in df_train['Smiles']]\n",
    "Xtrain = [AllChem.GetMorganFingerprintAsBitVect(mol, 2) for mol in X_t]\n",
    "Ytrain = df_train['Activity'].values.tolist()\n",
    "\n",
    "df_train = pd.read_csv('val.csv')\n",
    "X_v = [Chem.MolFromSmiles(smiles) for smiles in df_train['Smiles']]\n",
    "Xtest = [AllChem.GetMorganFingerprintAsBitVect(mol, 2) for mol in X_v]\n",
    "Ytest = df_train['Activity'].values.tolist()"
   ]
  },
  {
   "cell_type": "code",
   "execution_count": 6,
   "metadata": {},
   "outputs": [
    {
     "data": {
      "text/plain": [
       "({'n_estimators': 700}, 0.9280989931375057)"
      ]
     },
     "execution_count": 6,
     "metadata": {},
     "output_type": "execute_result"
    }
   ],
   "source": [
    "from sklearn.model_selection import GridSearchCV\n",
    "param_test1 = {\n",
    "    'n_estimators': range(100,1050,100),\n",
    "    }\n",
    "gsearch1 = GridSearchCV(estimator = RandomForestClassifier(), \n",
    "                       param_grid = param_test1, scoring='roc_auc',cv=5)\n",
    "gsearch1.fit(Xtrain,Ytrain)\n",
    "gsearch1.best_params_, gsearch1.best_score_"
   ]
  },
  {
   "cell_type": "code",
   "execution_count": 9,
   "metadata": {},
   "outputs": [
    {
     "data": {
      "text/plain": [
       "({'max_depth': 26}, 0.9269853781006814)"
      ]
     },
     "execution_count": 9,
     "metadata": {},
     "output_type": "execute_result"
    }
   ],
   "source": [
    "param_test1 = {\n",
    "    'max_depth': range(2,31,2),\n",
    "    }\n",
    "gsearch1 = GridSearchCV(estimator = RandomForestClassifier(n_estimators =700), \n",
    "                       param_grid = param_test1, scoring='roc_auc',cv=5)\n",
    "gsearch1.fit(Xtrain,Ytrain)\n",
    "gsearch1.best_params_, gsearch1.best_score_"
   ]
  },
  {
   "cell_type": "code",
   "execution_count": 10,
   "metadata": {},
   "outputs": [
    {
     "data": {
      "text/plain": [
       "({'max_features': 17}, 0.9269690275447626)"
      ]
     },
     "execution_count": 10,
     "metadata": {},
     "output_type": "execute_result"
    }
   ],
   "source": [
    "param_test1 = {\n",
    "    'max_features': range(5,23,2),\n",
    "    }\n",
    "gsearch1 = GridSearchCV(estimator = RandomForestClassifier(n_estimators =700,\n",
    "                                                           max_depth =26), \n",
    "                       param_grid = param_test1, scoring='roc_auc',cv=5)\n",
    "gsearch1.fit(Xtrain,Ytrain)\n",
    "gsearch1.best_params_, gsearch1.best_score_"
   ]
  },
  {
   "cell_type": "code",
   "execution_count": 11,
   "metadata": {},
   "outputs": [
    {
     "data": {
      "text/plain": [
       "({'min_samples_leaf': 1}, 0.9268272634856543)"
      ]
     },
     "execution_count": 11,
     "metadata": {},
     "output_type": "execute_result"
    }
   ],
   "source": [
    "param_test1 = {\n",
    "    'min_samples_leaf':range(1, 101, 2),\n",
    "    }\n",
    "gsearch1 = GridSearchCV(estimator = RandomForestClassifier(n_estimators =700,\n",
    "                                                           max_depth =26,\n",
    "                                                           max_features = 17), \n",
    "                       param_grid = param_test1, scoring='roc_auc',cv=5)\n",
    "gsearch1.fit(Xtrain,Ytrain)\n",
    "gsearch1.best_params_, gsearch1.best_score_"
   ]
  },
  {
   "cell_type": "code",
   "execution_count": 12,
   "metadata": {},
   "outputs": [
    {
     "data": {
      "text/plain": [
       "({'min_samples_split': 2}, 0.9263474694552658)"
      ]
     },
     "execution_count": 12,
     "metadata": {},
     "output_type": "execute_result"
    }
   ],
   "source": [
    "param_test1 = {\n",
    "    'min_samples_split':range(2, 22, 2),\n",
    "    }\n",
    "gsearch1 = GridSearchCV(estimator = RandomForestClassifier(n_estimators =700,\n",
    "                                                           max_depth =26,\n",
    "                                                           max_features = 17,\n",
    "                                                           min_samples_leaf =1\n",
    "                                                           ), \n",
    "                       param_grid = param_test1, scoring='roc_auc',cv=5)\n",
    "gsearch1.fit(Xtrain,Ytrain)\n",
    "gsearch1.best_params_, gsearch1.best_score_"
   ]
  },
  {
   "cell_type": "code",
   "execution_count": 15,
   "metadata": {},
   "outputs": [
    {
     "data": {
      "text/plain": [
       "({'criterion': 'gini'}, 0.9276529073184141)"
      ]
     },
     "execution_count": 15,
     "metadata": {},
     "output_type": "execute_result"
    }
   ],
   "source": [
    "param_test1 = {\n",
    "    'criterion':['gini', 'entropy','log_loss'],\n",
    "    }\n",
    "gsearch1 = GridSearchCV(estimator = RandomForestClassifier(n_estimators =700,\n",
    "                                                           max_depth =26,\n",
    "                                                           max_features = 17,\n",
    "                                                           min_samples_leaf =1,\n",
    "                                                           min_samples_split =2\n",
    "                                                           ), \n",
    "                       param_grid = param_test1, scoring='roc_auc',cv=5)\n",
    "gsearch1.fit(Xtrain,Ytrain)\n",
    "gsearch1.best_params_, gsearch1.best_score_"
   ]
  },
  {
   "cell_type": "code",
   "execution_count": 42,
   "metadata": {},
   "outputs": [],
   "source": [
    "model = RandomForestClassifier(\n",
    "    n_estimators =700,\n",
    "    max_depth =26,\n",
    "    max_features = 17,\n",
    "    min_samples_leaf =1,\n",
    "    min_samples_split =2\n",
    ")\n",
    "rfc = model.fit(Xtrain,Ytrain)"
   ]
  },
  {
   "cell_type": "code",
   "execution_count": 43,
   "metadata": {},
   "outputs": [
    {
     "name": "stdout",
     "output_type": "stream",
     "text": [
      "ACC: 0.869\n",
      "PRE: 0.866\n",
      "TPR: 0.907\n",
      "MCC: 0.734\n",
      "AUC: 0.938\n"
     ]
    }
   ],
   "source": [
    "from sklearn import metrics\n",
    "Ypre = rfc.predict(Xtest)\n",
    "y_test_predprob = rfc.predict_proba(Xtest)[:,1]\n",
    "\n",
    "def met(Ytest, Ypre,y_test_predprob):\n",
    "    ACC = metrics.accuracy_score(Ytest, Ypre)\n",
    "    print(\"ACC: %.3f\" % ACC)\n",
    "\n",
    "    PRE = metrics.precision_score(Ytest, Ypre)\n",
    "    print(\"PRE: %.3f\" % PRE)\n",
    "\n",
    "    TPR = metrics.recall_score(Ytest, Ypre)\n",
    "    print(\"TPR: %.3f\" % TPR)\n",
    "\n",
    "    MCC = metrics.matthews_corrcoef(Ytest, Ypre)\n",
    "    print(\"MCC: %.3f\" % MCC)\n",
    "\n",
    "    AUC = metrics.roc_auc_score(Ytest, y_test_predprob)\n",
    "    print(\"AUC: %.3f\" % AUC)\n",
    "\n",
    "\n",
    "met(Ytest, Ypre,y_test_predprob)"
   ]
  },
  {
   "cell_type": "code",
   "execution_count": 46,
   "metadata": {},
   "outputs": [
    {
     "name": "stdout",
     "output_type": "stream",
     "text": [
      "12o Activity: 1 [0.4659765 0.5340235]\n",
      "ABA-1266 Activity: 0 [0.51738474 0.48261526]\n",
      "ABN-2100 Activity: 0 [0.6298483 0.3701517]\n",
      "AAL-9931 Activity: 1 [0.48490745 0.51509255]\n",
      "AAR-10704 Activity: 0 [0.58546504 0.41453496]\n",
      "ABAN-835 Activity: 0 [0.50291824 0.49708176]\n"
     ]
    }
   ],
   "source": [
    "smiles = ['NC1=NC(C(NC2=CC=CC=N2)=O)=CN3C1=NC4=CC=CC=C34',\n",
    "          'FC(F)(F)c(c1)ccc2c1nc(n23)c(N)nc(c3)Cc4cccc(c4)C(=O)NCCO',\n",
    "          'CNC(=O)CNc1cccc(c1)Cc(c2)nc(N)c(n23)nc4c3ccc(c4)C',\n",
    "          'OCCNC(=O)c(c1)nc(N)c(n12)nc3c2ccc(c3)C(F)(F)F',\n",
    "          'CCc(cc1)cc(c12)nc3n2cc(nc3N)C(=O)NOc4ccccc4O',\n",
    "          'FC(F)(F)c(c1)ccc2c1nc(n23)c(N)nc(c3)Cc4cccc(c4)NC(=O)NCc5cccc(Cl)c5'\n",
    "          ]\n",
    "\n",
    "labels = ['12o',\n",
    "         'ABA-1266',\n",
    "         'ABN-2100',\n",
    "         'AAL-9931',\n",
    "         'AAR-10704',\n",
    "         'ABAN-835'\n",
    "         ]\n",
    "\n",
    "def predict(model, smiles, labels):\n",
    "    X_pred = [Chem.MolFromSmiles(smi) for smi in smiles]\n",
    "    X_pred_ecfp = [AllChem.GetMorganFingerprintAsBitVect(mol, 2) for mol in X_pred]\n",
    "    y_pred = model.predict(X_pred_ecfp)\n",
    "    y_proba = model.predict_proba(X_pred_ecfp)\n",
    "    for label, pred, proba in zip(labels, y_pred, y_proba):\n",
    "        print(f'{label} Activity: {pred} {proba}')\n",
    "\n",
    "#Random Forest Prediction\n",
    "predict(rfc, smiles, labels)"
   ]
  },
  {
   "cell_type": "code",
   "execution_count": null,
   "metadata": {},
   "outputs": [],
   "source": []
  }
 ],
 "metadata": {
  "kernelspec": {
   "display_name": "Python 3",
   "language": "python",
   "name": "python3"
  },
  "language_info": {
   "codemirror_mode": {
    "name": "ipython",
    "version": 3
   },
   "file_extension": ".py",
   "mimetype": "text/x-python",
   "name": "python",
   "nbconvert_exporter": "python",
   "pygments_lexer": "ipython3",
   "version": "3.8.17"
  },
  "orig_nbformat": 4
 },
 "nbformat": 4,
 "nbformat_minor": 2
}
