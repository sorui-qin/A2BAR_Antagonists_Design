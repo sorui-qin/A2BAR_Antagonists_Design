{
 "cells": [
  {
   "cell_type": "code",
   "execution_count": 12,
   "metadata": {},
   "outputs": [],
   "source": [
    "import rdkit.Chem as rkc\n",
    "\n",
    "filename = r'D:\\Research\\A2B\\training\\validation\\a2b_lower_100nm.smi'\n",
    "\n",
    "def write(filename_,li):\n",
    "    with open(filename_, 'w+') as wr:\n",
    "        for i in li:\n",
    "            wr.write(i+'\\n')\n",
    "        wr.close()\n",
    "\n",
    "with open(filename,'r+') as load_smi:\n",
    "    smi_li = load_smi.read().split('\\n')\n",
    "\n",
    "mols = [rkc.MolFromSmiles(smi) for smi in smi_li]"
   ]
  },
  {
   "cell_type": "code",
   "execution_count": 13,
   "metadata": {},
   "outputs": [],
   "source": [
    "subs = rkc.MolFromSmiles(\"O=C1C2=C(N=CN2)NC(N1)=O\")"
   ]
  },
  {
   "cell_type": "code",
   "execution_count": 14,
   "metadata": {},
   "outputs": [
    {
     "data": {
      "text/plain": [
       "(621, 537)"
      ]
     },
     "execution_count": 14,
     "metadata": {},
     "output_type": "execute_result"
    }
   ],
   "source": [
    "non_subs = [rkc.MolToSmiles(mol) for mol in mols if not mol.HasSubstructMatch(subs)]\n",
    "has_subs = [rkc.MolToSmiles(mol) for mol in mols if mol.HasSubstructMatch(subs)]\n",
    "len(has_subs),len(non_subs)"
   ]
  },
  {
   "cell_type": "code",
   "execution_count": null,
   "metadata": {},
   "outputs": [],
   "source": [
    "with open(r'D:\\Research\\A2B\\training\\validation\\nonxanthine.smi','w+') as wr:\n",
    "    for smi in non_subs[:-1]:\n",
    "            wr.write(smi+'\\n')\n",
    "    wr.write(non_subs[-1])\n",
    "    wr.close"
   ]
  }
 ],
 "metadata": {
  "kernelspec": {
   "display_name": "my-rdkit-env",
   "language": "python",
   "name": "python3"
  },
  "language_info": {
   "codemirror_mode": {
    "name": "ipython",
    "version": 3
   },
   "file_extension": ".py",
   "mimetype": "text/x-python",
   "name": "python",
   "nbconvert_exporter": "python",
   "pygments_lexer": "ipython3",
   "version": "3.7.15 (default, Nov 24 2022, 18:44:54) [MSC v.1916 64 bit (AMD64)]"
  },
  "orig_nbformat": 4,
  "vscode": {
   "interpreter": {
    "hash": "65e5a2847fc55098a7e1b389e999e15404bb13c97d6fe9d3d4bc94be3f13865f"
   }
  }
 },
 "nbformat": 4,
 "nbformat_minor": 2
}
