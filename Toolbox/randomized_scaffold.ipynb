{
 "cells": [
  {
   "cell_type": "code",
   "execution_count": 14,
   "metadata": {},
   "outputs": [],
   "source": [
    "from rdkit import Chem"
   ]
  },
  {
   "cell_type": "code",
   "execution_count": 15,
   "metadata": {},
   "outputs": [],
   "source": [
    "smi = 'Nc1nc(Cc2cc([*:0])ccc2)cn2c1nc1cc([*:1])ccc12' #scaffold\n",
    "mol = Chem.MolFromSmiles(smi)"
   ]
  },
  {
   "cell_type": "code",
   "execution_count": 30,
   "metadata": {},
   "outputs": [],
   "source": [
    "smis = []\n",
    "for i in range(100):\n",
    "    smis.append(Chem.MolToSmiles(mol,doRandom=True,canonical=False))\n",
    "smis_set = list(set(smis))"
   ]
  },
  {
   "cell_type": "code",
   "execution_count": 31,
   "metadata": {},
   "outputs": [
    {
     "data": {
      "text/plain": [
       "100"
      ]
     },
     "execution_count": 31,
     "metadata": {},
     "output_type": "execute_result"
    }
   ],
   "source": [
    "len(smis_set)"
   ]
  },
  {
   "cell_type": "code",
   "execution_count": 32,
   "metadata": {},
   "outputs": [],
   "source": [
    "for num,sca in enumerate(smis_set): #save the each scaffold for an unique sample-needed *.smi file \n",
    "    with open(r'D:\\Research\\A2B\\training\\sca_benzyl_para'+'\\scaffold_{:03d}.smi'.format(num),'w+') as sca_fi:\n",
    "        sca_fi.write(sca)\n",
    "        sca_fi.close()"
   ]
  },
  {
   "cell_type": "code",
   "execution_count": 33,
   "metadata": {},
   "outputs": [],
   "source": [
    "with open(r'D:\\Research\\A2B\\training\\sca_benzyl_para\\generated_sca_benzyl_para.sh','w+') as bs: #write an bash script for the sample action\n",
    "    for num in range(len(smis_set)):\n",
    "        command = 'python sample_scaffolds.py -m trained_models/a2banta.60.model -i sca_benzyl_para/scaffold_{:03d}.smi -o sca_benzyl_para/result/generated_molecules_{}.csv -r 16 -n 16 -d multi --of csv'.format(num,num+1)\n",
    "        bs.write(command+'\\n')\n",
    "    bs.close()"
   ]
  }
 ],
 "metadata": {
  "kernelspec": {
   "display_name": "my-rdkit-env",
   "language": "python",
   "name": "python3"
  },
  "language_info": {
   "codemirror_mode": {
    "name": "ipython",
    "version": 3
   },
   "file_extension": ".py",
   "mimetype": "text/x-python",
   "name": "python",
   "nbconvert_exporter": "python",
   "pygments_lexer": "ipython3",
   "version": "3.7.15 (default, Nov 24 2022, 18:44:54) [MSC v.1916 64 bit (AMD64)]"
  },
  "orig_nbformat": 4,
  "vscode": {
   "interpreter": {
    "hash": "65e5a2847fc55098a7e1b389e999e15404bb13c97d6fe9d3d4bc94be3f13865f"
   }
  }
 },
 "nbformat": 4,
 "nbformat_minor": 2
}
