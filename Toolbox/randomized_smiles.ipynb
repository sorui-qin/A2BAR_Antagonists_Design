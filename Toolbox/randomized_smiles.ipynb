{
 "cells": [
  {
   "cell_type": "code",
   "execution_count": 1,
   "metadata": {},
   "outputs": [],
   "source": [
    "from rdkit import Chem as rkc\n",
    "\n",
    "filename = r'D:\\Research\\A2B\\a2b_lower_100nm_QEDfilted.smi'\n",
    "with open (filename,'r') as re:\n",
    "    smi_li = re.read().split('\\n')\n",
    "mols = [rkc.MolFromSmiles(smi) for smi in smi_li]"
   ]
  },
  {
   "cell_type": "code",
   "execution_count": 2,
   "metadata": {},
   "outputs": [],
   "source": [
    "randomized_li = []\n",
    "for mol in mols:\n",
    "    for _ in range(25):\n",
    "        randomized_li.append(rkc.MolToSmiles(mol,doRandom=True,canonical=False))\n",
    "randomized_li = list(set(randomized_li))"
   ]
  },
  {
   "cell_type": "code",
   "execution_count": 4,
   "metadata": {},
   "outputs": [],
   "source": [
    "randomized_fi = filename.split('.')[0] +'_randomized.'+ filename.split('.')[1]\n",
    "with open(randomized_fi,'w+') as wr:\n",
    "    for smi in randomized_li:\n",
    "        wr.write(smi+'\\n')\n",
    "    wr.close()"
   ]
  }
 ],
 "metadata": {
  "kernelspec": {
   "display_name": "my-rdkit-env",
   "language": "python",
   "name": "python3"
  },
  "language_info": {
   "codemirror_mode": {
    "name": "ipython",
    "version": 3
   },
   "file_extension": ".py",
   "mimetype": "text/x-python",
   "name": "python",
   "nbconvert_exporter": "python",
   "pygments_lexer": "ipython3",
   "version": "3.7.15 (default, Nov 24 2022, 18:44:54) [MSC v.1916 64 bit (AMD64)]"
  },
  "orig_nbformat": 4,
  "vscode": {
   "interpreter": {
    "hash": "65e5a2847fc55098a7e1b389e999e15404bb13c97d6fe9d3d4bc94be3f13865f"
   }
  }
 },
 "nbformat": 4,
 "nbformat_minor": 2
}
