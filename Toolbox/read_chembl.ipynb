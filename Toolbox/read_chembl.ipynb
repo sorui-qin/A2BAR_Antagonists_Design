{
 "cells": [
  {
   "cell_type": "code",
   "execution_count": 18,
   "metadata": {},
   "outputs": [],
   "source": [
    "import pandas as pd\n",
    "import rdkit.Chem as rkc\n",
    "\n",
    "def standrad_smi(smi):\n",
    "    if '@' in smi or'.' in smi:\n",
    "        pass\n",
    "    else:\n",
    "        return smi"
   ]
  },
  {
   "cell_type": "code",
   "execution_count": 19,
   "metadata": {},
   "outputs": [],
   "source": [
    "filename = r'D:\\Research\\A2B\\a2b_lower_100nm.csv'\n",
    "df = pd.read_csv(filename ,sep=';')"
   ]
  },
  {
   "cell_type": "code",
   "execution_count": 20,
   "metadata": {},
   "outputs": [
    {
     "data": {
      "text/plain": [
       "1157"
      ]
     },
     "execution_count": 20,
     "metadata": {},
     "output_type": "execute_result"
    }
   ],
   "source": [
    "smi_li = df[\"Smiles\"].values.tolist() \n",
    "standrad_li = [standrad_smi(smi) for smi in smi_li if standrad_smi(smi)]\n",
    "len(standrad_li)"
   ]
  },
  {
   "cell_type": "code",
   "execution_count": 21,
   "metadata": {},
   "outputs": [],
   "source": [
    "with open(filename.replace('csv','smi'),'w+',encoding='utf=8') as fi:\n",
    "    for smi in standrad_li:\n",
    "        fi.write(smi+'\\n')\n",
    "    fi.close()"
   ]
  }
 ],
 "metadata": {
  "kernelspec": {
   "display_name": "my-rdkit-env",
   "language": "python",
   "name": "python3"
  },
  "language_info": {
   "codemirror_mode": {
    "name": "ipython",
    "version": 3
   },
   "file_extension": ".py",
   "mimetype": "text/x-python",
   "name": "python",
   "nbconvert_exporter": "python",
   "pygments_lexer": "ipython3",
   "version": "3.7.15 (default, Nov 24 2022, 18:44:54) [MSC v.1916 64 bit (AMD64)]"
  },
  "orig_nbformat": 4,
  "vscode": {
   "interpreter": {
    "hash": "65e5a2847fc55098a7e1b389e999e15404bb13c97d6fe9d3d4bc94be3f13865f"
   }
  }
 },
 "nbformat": 4,
 "nbformat_minor": 2
}
