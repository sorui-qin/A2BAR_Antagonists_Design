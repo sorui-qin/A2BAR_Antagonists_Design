{
 "cells": [
  {
   "cell_type": "code",
   "execution_count": 1,
   "metadata": {},
   "outputs": [],
   "source": [
    "%load_ext autoreload\n",
    "%autoreload 2\n",
    "from fcd import get_fcd\n",
    "import pandas as pd"
   ]
  },
  {
   "cell_type": "code",
   "execution_count": 2,
   "metadata": {},
   "outputs": [],
   "source": [
    "mol_file1 = r'D:\\Research\\A2B\\training\\validation\\nonxanthine.smi' #Baseline set\n",
    "smiles1 = pd.read_csv(mol_file1,header=None)[0].tolist()\n",
    "\n",
    "mol_file2 = r'D:\\Research\\A2B\\training\\validation\\repeat_standard.smi' #Generated molecules set\n",
    "smiles2 = pd.read_csv(mol_file2,header=None)[0].tolist()"
   ]
  },
  {
   "cell_type": "code",
   "execution_count": 3,
   "metadata": {},
   "outputs": [
    {
     "data": {
      "text/plain": [
       "'47.97'"
      ]
     },
     "execution_count": 3,
     "metadata": {},
     "output_type": "execute_result"
    }
   ],
   "source": [
    "fcd = get_fcd(smiles1,smiles2,model=None)\n",
    "'%.2f'% fcd"
   ]
  }
 ],
 "metadata": {
  "kernelspec": {
   "display_name": "my-rdkit-env",
   "language": "python",
   "name": "python3"
  },
  "language_info": {
   "codemirror_mode": {
    "name": "ipython",
    "version": 3
   },
   "file_extension": ".py",
   "mimetype": "text/x-python",
   "name": "python",
   "nbconvert_exporter": "python",
   "pygments_lexer": "ipython3",
   "version": "3.7.15"
  },
  "orig_nbformat": 4,
  "vscode": {
   "interpreter": {
    "hash": "65e5a2847fc55098a7e1b389e999e15404bb13c97d6fe9d3d4bc94be3f13865f"
   }
  }
 },
 "nbformat": 4,
 "nbformat_minor": 2
}
