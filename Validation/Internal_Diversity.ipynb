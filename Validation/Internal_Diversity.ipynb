{
 "cells": [
  {
   "cell_type": "code",
   "execution_count": 3,
   "metadata": {},
   "outputs": [
    {
     "name": "stdout",
     "output_type": "stream",
     "text": [
      "The autoreload extension is already loaded. To reload it, use:\n",
      "  %reload_ext autoreload\n"
     ]
    }
   ],
   "source": [
    "%load_ext autoreload\n",
    "%autoreload 2\n",
    "import numpy as np\n",
    "import pandas as pd\n",
    "import random\n",
    "import rdkit.Chem as rkc\n",
    "from rdkit.Chem import AllChem\n",
    "import rdkit.DataStructs as data"
   ]
  },
  {
   "cell_type": "code",
   "execution_count": 4,
   "metadata": {},
   "outputs": [],
   "source": [
    "filename = r'D:\\Research\\A2B\\training\\validation\\repeat_standard.smi'\n",
    "with open(filename,'r') as re:\n",
    "    smi_li = re.read().split('\\n')\n",
    "    re.close()"
   ]
  },
  {
   "cell_type": "code",
   "execution_count": 5,
   "metadata": {},
   "outputs": [],
   "source": [
    "mols = [rkc.MolFromSmiles(smi) for smi in smi_li]\n",
    "fps = [AllChem.GetMorganFingerprint(mol,2) for mol in mols] \n",
    "#Morgan Fingerprint used to further compairsion the similarities within the molecular set\n",
    "#Iteration radius is set as 2 as ECFP4"
   ]
  },
  {
   "cell_type": "code",
   "execution_count": 6,
   "metadata": {},
   "outputs": [
    {
     "data": {
      "text/plain": [
       "array([1.        , 0.55855856, 0.52586207, ..., 0.48837209, 0.48412698,\n",
       "       1.        ])"
      ]
     },
     "execution_count": 6,
     "metadata": {},
     "output_type": "execute_result"
    }
   ],
   "source": [
    "sims_list = [data.TanimotoSimilarity(fp1,fp2) for fp1 in fps for fp2 in fps]\n",
    "sims_array = np.array(sims_list, dtype=float)\n",
    "sims_array"
   ]
  },
  {
   "cell_type": "code",
   "execution_count": 7,
   "metadata": {},
   "outputs": [
    {
     "data": {
      "text/plain": [
       "134954689"
      ]
     },
     "execution_count": 7,
     "metadata": {},
     "output_type": "execute_result"
    }
   ],
   "source": [
    "len(sims_array)"
   ]
  },
  {
   "cell_type": "code",
   "execution_count": 8,
   "metadata": {},
   "outputs": [
    {
     "data": {
      "text/plain": [
       "0.4873241991892562"
      ]
     },
     "execution_count": 8,
     "metadata": {},
     "output_type": "execute_result"
    }
   ],
   "source": [
    "overall_sim = sims_array.sum()\n",
    "InternalDiveristy = 1 - (overall_sim)/len(smi_li)**2\n",
    "InternalDiveristy"
   ]
  }
 ],
 "metadata": {
  "kernelspec": {
   "display_name": "my-rdkit-env",
   "language": "python",
   "name": "python3"
  },
  "language_info": {
   "codemirror_mode": {
    "name": "ipython",
    "version": 3
   },
   "file_extension": ".py",
   "mimetype": "text/x-python",
   "name": "python",
   "nbconvert_exporter": "python",
   "pygments_lexer": "ipython3",
   "version": "3.7.15"
  },
  "orig_nbformat": 4,
  "vscode": {
   "interpreter": {
    "hash": "65e5a2847fc55098a7e1b389e999e15404bb13c97d6fe9d3d4bc94be3f13865f"
   }
  }
 },
 "nbformat": 4,
 "nbformat_minor": 2
}
