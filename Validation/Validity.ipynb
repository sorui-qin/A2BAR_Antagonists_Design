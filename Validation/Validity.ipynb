{
 "cells": [
  {
   "cell_type": "code",
   "execution_count": 7,
   "metadata": {},
   "outputs": [],
   "source": [
    "import pandas as pd\n",
    "import rdkit.Chem as rkc\n",
    "\n",
    "filename = r'D:\\Research\\A2B\\training\\validation\\overfit.csv'"
   ]
  },
  {
   "cell_type": "code",
   "execution_count": 8,
   "metadata": {},
   "outputs": [
    {
     "data": {
      "text/html": [
       "<div>\n",
       "<style scoped>\n",
       "    .dataframe tbody tr th:only-of-type {\n",
       "        vertical-align: middle;\n",
       "    }\n",
       "\n",
       "    .dataframe tbody tr th {\n",
       "        vertical-align: top;\n",
       "    }\n",
       "\n",
       "    .dataframe thead th {\n",
       "        text-align: right;\n",
       "    }\n",
       "</style>\n",
       "<table border=\"1\" class=\"dataframe\">\n",
       "  <thead>\n",
       "    <tr style=\"text-align: right;\">\n",
       "      <th></th>\n",
       "      <th>Unnamed: 0</th>\n",
       "      <th>smiles</th>\n",
       "      <th>scaffold</th>\n",
       "      <th>decorations</th>\n",
       "      <th>count</th>\n",
       "    </tr>\n",
       "  </thead>\n",
       "  <tbody>\n",
       "    <tr>\n",
       "      <th>0</th>\n",
       "      <td>0.0</td>\n",
       "      <td>CC(=O)Nc1ccc(Cc2cn3c(nc4cc(F)ccc43)c(N)n2)cc1</td>\n",
       "      <td>Nc1nc(cn2c3ccc([*:0])cc3nc21)Cc1ccc([*:1])cc1</td>\n",
       "      <td>{0: '[*]F', 1: '[*]NC(C)=O'}</td>\n",
       "      <td>83</td>\n",
       "    </tr>\n",
       "    <tr>\n",
       "      <th>1</th>\n",
       "      <td>1.0</td>\n",
       "      <td>CN1CCN(C(=O)COc2ccc(Cc3cn4c(nc5cc(Cl)ccc54)c(N...</td>\n",
       "      <td>Nc1nc(cn2c3ccc([*:0])cc3nc21)Cc1ccc([*:1])cc1</td>\n",
       "      <td>{0: '[*]Cl', 1: '[*]OCC(=O)N1CCN(C)CC1'}</td>\n",
       "      <td>1</td>\n",
       "    </tr>\n",
       "    <tr>\n",
       "      <th>2</th>\n",
       "      <td>2.0</td>\n",
       "      <td>COc1ccc(-c2ccc(Cc3cn4c(nc5cc(Br)ccc54)c(N)n3)c...</td>\n",
       "      <td>Nc1nc(cn2c3ccc([*:0])cc3nc21)Cc1ccc([*:1])cc1</td>\n",
       "      <td>{0: '[*]Br', 1: '[*]c1ccc(OC)cc1'}</td>\n",
       "      <td>1</td>\n",
       "    </tr>\n",
       "    <tr>\n",
       "      <th>3</th>\n",
       "      <td>3.0</td>\n",
       "      <td>COc1ccc(Cc2cn3c(nc4cc(NCC(=O)NC5CCCC5)ccc43)c(...</td>\n",
       "      <td>Nc1nc(cn2c3ccc([*:0])cc3nc21)Cc1ccc([*:1])cc1</td>\n",
       "      <td>{0: '[*]NCC(=O)NC1CCCC1', 1: '[*]OC'}</td>\n",
       "      <td>1</td>\n",
       "    </tr>\n",
       "    <tr>\n",
       "      <th>4</th>\n",
       "      <td>4.0</td>\n",
       "      <td>Cc1cc(-c2ccc(Cc3cn4c(nc5cc(O)ccc54)c(N)n3)cc2)...</td>\n",
       "      <td>Nc1nc(cn2c3ccc([*:0])cc3nc21)Cc1ccc([*:1])cc1</td>\n",
       "      <td>{0: '[*]O', 1: '[*]c1cc(C)ncc1F'}</td>\n",
       "      <td>1</td>\n",
       "    </tr>\n",
       "    <tr>\n",
       "      <th>...</th>\n",
       "      <td>...</td>\n",
       "      <td>...</td>\n",
       "      <td>...</td>\n",
       "      <td>...</td>\n",
       "      <td>...</td>\n",
       "    </tr>\n",
       "    <tr>\n",
       "      <th>105254</th>\n",
       "      <td>1057.0</td>\n",
       "      <td>Nc1nc(Cc2ccc(F)cc2)cn2c1nc1cc(NC(=O)C3CC3)ccc12</td>\n",
       "      <td>c12ccc(cc2nc2n1cc(nc2N)Cc1ccc([*:1])cc1)[*:0]</td>\n",
       "      <td>{0: '[*]NC(=O)C1CC1', 1: '[*]F'}</td>\n",
       "      <td>3</td>\n",
       "    </tr>\n",
       "    <tr>\n",
       "      <th>105255</th>\n",
       "      <td>1058.0</td>\n",
       "      <td>CCOC(=O)c1ccc(Cc2cn3c(nc4cc(-c5ccco5)ccc43)c(N...</td>\n",
       "      <td>c12ccc(cc2nc2n1cc(nc2N)Cc1ccc([*:1])cc1)[*:0]</td>\n",
       "      <td>{0: '[*]c1ccco1', 1: '[*]C(=O)OCC'}</td>\n",
       "      <td>1</td>\n",
       "    </tr>\n",
       "    <tr>\n",
       "      <th>105256</th>\n",
       "      <td>1059.0</td>\n",
       "      <td>COc1ccc2c(c1)nc1c(N)nc(Cc3ccc(Br)cc3)cn12</td>\n",
       "      <td>c12ccc(cc2nc2n1cc(nc2N)Cc1ccc([*:1])cc1)[*:0]</td>\n",
       "      <td>{0: '[*]OC', 1: '[*]Br'}</td>\n",
       "      <td>1</td>\n",
       "    </tr>\n",
       "    <tr>\n",
       "      <th>105257</th>\n",
       "      <td>1060.0</td>\n",
       "      <td>Cc1ccc2c(c1)nc1c(N)nc(Cc3ccc(-c4ccc5c(c4)OCO5)...</td>\n",
       "      <td>c12ccc(cc2nc2n1cc(nc2N)Cc1ccc([*:1])cc1)[*:0]</td>\n",
       "      <td>{0: '[*]C', 1: '[*]c1ccc2c(c1)OCO2'}</td>\n",
       "      <td>11</td>\n",
       "    </tr>\n",
       "    <tr>\n",
       "      <th>105258</th>\n",
       "      <td>1061.0</td>\n",
       "      <td>Nc1nc(Cc2ccc(-c3ccc4c(c3)OCO4)cc2)cn2c1nc1cc(B...</td>\n",
       "      <td>c12ccc(cc2nc2n1cc(nc2N)Cc1ccc([*:1])cc1)[*:0]</td>\n",
       "      <td>{0: '[*]Br', 1: '[*]c1ccc2c(c1)OCO2'}</td>\n",
       "      <td>3</td>\n",
       "    </tr>\n",
       "  </tbody>\n",
       "</table>\n",
       "<p>105259 rows × 5 columns</p>\n",
       "</div>"
      ],
      "text/plain": [
       "        Unnamed: 0                                             smiles  \\\n",
       "0              0.0      CC(=O)Nc1ccc(Cc2cn3c(nc4cc(F)ccc43)c(N)n2)cc1   \n",
       "1              1.0  CN1CCN(C(=O)COc2ccc(Cc3cn4c(nc5cc(Cl)ccc54)c(N...   \n",
       "2              2.0  COc1ccc(-c2ccc(Cc3cn4c(nc5cc(Br)ccc54)c(N)n3)c...   \n",
       "3              3.0  COc1ccc(Cc2cn3c(nc4cc(NCC(=O)NC5CCCC5)ccc43)c(...   \n",
       "4              4.0  Cc1cc(-c2ccc(Cc3cn4c(nc5cc(O)ccc54)c(N)n3)cc2)...   \n",
       "...            ...                                                ...   \n",
       "105254      1057.0    Nc1nc(Cc2ccc(F)cc2)cn2c1nc1cc(NC(=O)C3CC3)ccc12   \n",
       "105255      1058.0  CCOC(=O)c1ccc(Cc2cn3c(nc4cc(-c5ccco5)ccc43)c(N...   \n",
       "105256      1059.0          COc1ccc2c(c1)nc1c(N)nc(Cc3ccc(Br)cc3)cn12   \n",
       "105257      1060.0  Cc1ccc2c(c1)nc1c(N)nc(Cc3ccc(-c4ccc5c(c4)OCO5)...   \n",
       "105258      1061.0  Nc1nc(Cc2ccc(-c3ccc4c(c3)OCO4)cc2)cn2c1nc1cc(B...   \n",
       "\n",
       "                                             scaffold  \\\n",
       "0       Nc1nc(cn2c3ccc([*:0])cc3nc21)Cc1ccc([*:1])cc1   \n",
       "1       Nc1nc(cn2c3ccc([*:0])cc3nc21)Cc1ccc([*:1])cc1   \n",
       "2       Nc1nc(cn2c3ccc([*:0])cc3nc21)Cc1ccc([*:1])cc1   \n",
       "3       Nc1nc(cn2c3ccc([*:0])cc3nc21)Cc1ccc([*:1])cc1   \n",
       "4       Nc1nc(cn2c3ccc([*:0])cc3nc21)Cc1ccc([*:1])cc1   \n",
       "...                                               ...   \n",
       "105254  c12ccc(cc2nc2n1cc(nc2N)Cc1ccc([*:1])cc1)[*:0]   \n",
       "105255  c12ccc(cc2nc2n1cc(nc2N)Cc1ccc([*:1])cc1)[*:0]   \n",
       "105256  c12ccc(cc2nc2n1cc(nc2N)Cc1ccc([*:1])cc1)[*:0]   \n",
       "105257  c12ccc(cc2nc2n1cc(nc2N)Cc1ccc([*:1])cc1)[*:0]   \n",
       "105258  c12ccc(cc2nc2n1cc(nc2N)Cc1ccc([*:1])cc1)[*:0]   \n",
       "\n",
       "                                     decorations count  \n",
       "0                   {0: '[*]F', 1: '[*]NC(C)=O'}    83  \n",
       "1       {0: '[*]Cl', 1: '[*]OCC(=O)N1CCN(C)CC1'}     1  \n",
       "2             {0: '[*]Br', 1: '[*]c1ccc(OC)cc1'}     1  \n",
       "3          {0: '[*]NCC(=O)NC1CCCC1', 1: '[*]OC'}     1  \n",
       "4              {0: '[*]O', 1: '[*]c1cc(C)ncc1F'}     1  \n",
       "...                                          ...   ...  \n",
       "105254          {0: '[*]NC(=O)C1CC1', 1: '[*]F'}     3  \n",
       "105255       {0: '[*]c1ccco1', 1: '[*]C(=O)OCC'}     1  \n",
       "105256                  {0: '[*]OC', 1: '[*]Br'}     1  \n",
       "105257      {0: '[*]C', 1: '[*]c1ccc2c(c1)OCO2'}    11  \n",
       "105258     {0: '[*]Br', 1: '[*]c1ccc2c(c1)OCO2'}     3  \n",
       "\n",
       "[105259 rows x 5 columns]"
      ]
     },
     "execution_count": 8,
     "metadata": {},
     "output_type": "execute_result"
    }
   ],
   "source": [
    "df = pd.read_csv(filename)\n",
    "df"
   ]
  },
  {
   "cell_type": "code",
   "execution_count": 9,
   "metadata": {},
   "outputs": [
    {
     "data": {
      "text/plain": [
       "32291"
      ]
     },
     "execution_count": 9,
     "metadata": {},
     "output_type": "execute_result"
    }
   ],
   "source": [
    "smi_li = list(set(df['smiles'].to_list()))\n",
    "smi_li.remove('smiles')\n",
    "len(smi_li)"
   ]
  },
  {
   "cell_type": "code",
   "execution_count": 10,
   "metadata": {},
   "outputs": [
    {
     "name": "stdout",
     "output_type": "stream",
     "text": [
      "31733 558\n"
     ]
    }
   ],
   "source": [
    "def standard_smi(li):\n",
    "    standard_li = []\n",
    "    invalid_count = 0\n",
    "    for smi in li:\n",
    "        if '*' in smi:\n",
    "            invalid_count += 1\n",
    "        else:\n",
    "            stand_smi = rkc.MolToSmiles(rkc.MolFromSmiles(smi)) #Standardize\n",
    "            standard_li.append(stand_smi)\n",
    "            standard_li = list(set(standard_li))\n",
    "    print(len(standard_li),invalid_count)\n",
    "    return standard_li\n",
    "\n",
    "standard_li = standard_smi(smi_li)"
   ]
  },
  {
   "cell_type": "code",
   "execution_count": 11,
   "metadata": {},
   "outputs": [
    {
     "data": {
      "text/plain": [
       "'0.983'"
      ]
     },
     "execution_count": 11,
     "metadata": {},
     "output_type": "execute_result"
    }
   ],
   "source": [
    "Validity = '%.3f'% (len(standard_li)/len(smi_li))\n",
    "Validity"
   ]
  },
  {
   "cell_type": "code",
   "execution_count": 12,
   "metadata": {},
   "outputs": [],
   "source": [
    "stand_file = filename.split('.')[0] + '_standard.smi'\n",
    "with open(stand_file,'w+') as wr:\n",
    "    for smi in standard_li[:-1]:\n",
    "        wr.write(smi+'\\n')\n",
    "    wr.write(standard_li[-1])\n",
    "    wr.close"
   ]
  }
 ],
 "metadata": {
  "kernelspec": {
   "display_name": "my-rdkit-env",
   "language": "python",
   "name": "python3"
  },
  "language_info": {
   "codemirror_mode": {
    "name": "ipython",
    "version": 3
   },
   "file_extension": ".py",
   "mimetype": "text/x-python",
   "name": "python",
   "nbconvert_exporter": "python",
   "pygments_lexer": "ipython3",
   "version": "3.7.15"
  },
  "orig_nbformat": 4,
  "vscode": {
   "interpreter": {
    "hash": "65e5a2847fc55098a7e1b389e999e15404bb13c97d6fe9d3d4bc94be3f13865f"
   }
  }
 },
 "nbformat": 4,
 "nbformat_minor": 2
}
