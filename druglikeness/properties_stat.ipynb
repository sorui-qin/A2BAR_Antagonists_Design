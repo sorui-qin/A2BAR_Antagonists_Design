{
 "cells": [
  {
   "cell_type": "code",
   "execution_count": 5,
   "metadata": {},
   "outputs": [],
   "source": [
    "import pandas\n",
    "import rdkit.Chem as rkc\n",
    "from rdkit.Chem import Crippen\n",
    "from rdkit.Chem import Lipinski\n",
    "from rdkit.Chem import Descriptors"
   ]
  },
  {
   "cell_type": "code",
   "execution_count": null,
   "metadata": {},
   "outputs": [],
   "source": [
    "with open(r'D:\\Research\\A2B\\subtituents\\L6sub-HTVS.smi', 'r') as f:\n",
    "    sta_set=f.read()\n",
    "    sta_set=sta_set.split('\\n')\n",
    "sta_set"
   ]
  },
  {
   "cell_type": "code",
   "execution_count": 6,
   "metadata": {},
   "outputs": [],
   "source": [
    "def mole_proper(mol):\n",
    "    num_hdonors = Lipinski.NumHDonors(mol)\n",
    "    num_hacceptors = Lipinski.NumHAcceptors(mol)\n",
    "    num_rotatable = Lipinski.NumRotatableBonds(mol)\n",
    "    num_aromatic = Lipinski.NumAromaticRings(mol)\n",
    "    mol_weight = Descriptors.MolWt(mol)\n",
    "    mol_logp = Crippen.MolLogP(mol)\n",
    "    mol_TPSA = Descriptors.TPSA(mol)\n",
    "    proper= [num_hdonors, num_hacceptors, num_rotatable, num_aromatic, mol_weight, mol_logp, mol_TPSA]\n",
    "    return proper\n",
    "\n",
    "def save_excel(proper_list):\n",
    "    df = pandas.DataFrame(proper_list, columns=['HBD', 'HBA', 'Rotatable bones', 'Mol Weight', 'LogP', 'TPSA'])\n",
    "    df.to_excel('MoleculesProperties.xlsx', index=None)\n",
    "\n",
    "def main():\n",
    "    proper_list=[]\n",
    "    for smi in sta_set:\n",
    "        mol = rkc.MolFromSmiles(smi)\n",
    "        proper = mole_proper(mol)\n",
    "        proper_list.append(proper)\n",
    "\n",
    "    save_excel(proper_list)"
   ]
  },
  {
   "cell_type": "code",
   "execution_count": 9,
   "metadata": {},
   "outputs": [
    {
     "data": {
      "text/plain": [
       "[2, 3, 1, 1, 136.134, -1.1403000000000003, 68.01]"
      ]
     },
     "execution_count": 9,
     "metadata": {},
     "output_type": "execute_result"
    }
   ],
   "source": [
    "mole_proper(rkc.MolFromSmiles('[*]c1cc(C(=O)NN)ccn1'))"
   ]
  },
  {
   "cell_type": "code",
   "execution_count": null,
   "metadata": {},
   "outputs": [],
   "source": []
  }
 ],
 "metadata": {
  "kernelspec": {
   "display_name": "my-rdkit-env",
   "language": "python",
   "name": "python3"
  },
  "language_info": {
   "codemirror_mode": {
    "name": "ipython",
    "version": 3
   },
   "file_extension": ".py",
   "mimetype": "text/x-python",
   "name": "python",
   "nbconvert_exporter": "python",
   "pygments_lexer": "ipython3",
   "version": "3.7.15 (default, Nov 24 2022, 18:44:54) [MSC v.1916 64 bit (AMD64)]"
  },
  "orig_nbformat": 4,
  "vscode": {
   "interpreter": {
    "hash": "65e5a2847fc55098a7e1b389e999e15404bb13c97d6fe9d3d4bc94be3f13865f"
   }
  }
 },
 "nbformat": 4,
 "nbformat_minor": 2
}
