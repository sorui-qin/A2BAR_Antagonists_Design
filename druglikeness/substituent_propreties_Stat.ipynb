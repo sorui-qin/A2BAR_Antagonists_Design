{
 "cells": [
  {
   "cell_type": "code",
   "execution_count": 1,
   "metadata": {},
   "outputs": [],
   "source": [
    "'''\n",
    "This program is to statistic the substituent propreties of molecule library,\n",
    "which molecules in the library have the same scaffold, and the scaffold has a only substituent.\n",
    "All molecules are SMILES format and stored in smi/txt format.\n",
    "The specfic scaffold should be given in the place where is marked as the substructure.\n",
    "Make sure there are Pandas & RDKit in your python environment.  \n",
    "'''\n",
    "\n",
    "import pandas\n",
    "import os\n",
    "import rdkit.Chem as rkc\n",
    "from rdkit.Chem import Crippen\n",
    "from rdkit.Chem import Lipinski\n",
    "from rdkit.Chem import Descriptors\n",
    "from rdkit.Chem import Draw\n"
   ]
  },
  {
   "cell_type": "code",
   "execution_count": 36,
   "metadata": {},
   "outputs": [],
   "source": [
    "sca_smi='NC1=NC(CC2=CC=CC=C2)=CN3C1=NC4=C3C=CC=C4' #change the scaffold in here\n",
    "sca_mol = rkc.MolFromSmiles(sca_smi)"
   ]
  },
  {
   "cell_type": "code",
   "execution_count": 37,
   "metadata": {},
   "outputs": [],
   "source": [
    "with open(r'D:\\Research\\A2B\\subtituents\\L6sub-HTVS.smi', 'r') as f: #change the input file in here\n",
    "    sta_set = f.read()\n",
    "    sta_set = sta_set.split('\\n')\n",
    "    sta_set = [i.split(' ')[0] for i in sta_set]"
   ]
  },
  {
   "cell_type": "code",
   "execution_count": 39,
   "metadata": {},
   "outputs": [],
   "source": [
    "def sub_slice(smi):\n",
    "    mol = rkc.MolFromSmiles(smi)\n",
    "    sliced_mol=rkc.DeleteSubstructs(mol,sca_mol)\n",
    "    return rkc.MolToSmiles(sliced_mol)\n",
    "\n",
    "def mole_proper(mol):\n",
    "    num_hdonors = Lipinski.NumHDonors(mol)\n",
    "    num_hacceptors = Lipinski.NumHAcceptors(mol)\n",
    "    num_rotatable = Lipinski.NumRotatableBonds(mol)\n",
    "    num_aromatic = Lipinski.NumAromaticRings(mol)\n",
    "    mol_weight = Descriptors.MolWt(mol)\n",
    "    mol_logp = Crippen.MolLogP(mol)\n",
    "    mol_TPSA = Descriptors.TPSA(mol)\n",
    "    proper= [rkc.MolToSmiles(mol),num_hdonors, num_hacceptors, num_rotatable, num_aromatic, mol_weight, mol_logp, mol_TPSA]\n",
    "    return proper\n",
    "\n",
    "def save_excel(proper_list):\n",
    "    df = pandas.DataFrame(proper_list, columns=['SMILES','HBD', 'HBA', 'Rotatable bones', 'Aromatic Rings','Mol Weight', 'LogP', 'TPSA'])\n",
    "    df.to_excel('SubstituentsProperties.xlsx', index=None)"
   ]
  },
  {
   "cell_type": "code",
   "execution_count": 40,
   "metadata": {},
   "outputs": [],
   "source": [
    "slice_li = [sub_slice(smi) for smi in sta_set]\n"
   ]
  },
  {
   "cell_type": "code",
   "execution_count": 25,
   "metadata": {},
   "outputs": [],
   "source": [
    "proper_list=[]\n",
    "for smi in slice_li:\n",
    "    mol = rkc.MolFromSmiles(smi)\n",
    "    proper = mole_proper(mol)\n",
    "    proper_list.append(proper)\n",
    "save_excel(proper_list)"
   ]
  },
  {
   "cell_type": "code",
   "execution_count": 41,
   "metadata": {},
   "outputs": [],
   "source": [
    "file_name='R6'\n",
    "os.mkdir(file_name + \"_substituents_img\")\n",
    "for i, smile in enumerate(slice_li):\n",
    "    if i <= 500: #change the number of molecules that you wanted to analysis their substituent propreties\n",
    "        mol = rkc.MolFromSmiles(smile)\n",
    "        Draw.MolToFile(mol, file_name + \"_substituents_img/\" + str(i) + \".png\", size=(600, 600) , legend=smile)"
   ]
  }
 ],
 "metadata": {
  "kernelspec": {
   "display_name": "my-rdkit-env",
   "language": "python",
   "name": "python3"
  },
  "language_info": {
   "codemirror_mode": {
    "name": "ipython",
    "version": 3
   },
   "file_extension": ".py",
   "mimetype": "text/x-python",
   "name": "python",
   "nbconvert_exporter": "python",
   "pygments_lexer": "ipython3",
   "version": "3.7.15 (default, Nov 24 2022, 18:44:54) [MSC v.1916 64 bit (AMD64)]"
  },
  "orig_nbformat": 4,
  "vscode": {
   "interpreter": {
    "hash": "65e5a2847fc55098a7e1b389e999e15404bb13c97d6fe9d3d4bc94be3f13865f"
   }
  }
 },
 "nbformat": 4,
 "nbformat_minor": 2
}
