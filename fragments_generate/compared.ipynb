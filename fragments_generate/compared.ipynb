{
 "cells": [
  {
   "cell_type": "code",
   "execution_count": 10,
   "metadata": {},
   "outputs": [],
   "source": [
    "import rdkit\n",
    "import rdkit.Chem as rkc\n",
    "import re\n",
    "\n",
    "def standard_smi(smile):\n",
    "    if rkc.MolFromSmiles(smile):\n",
    "        return rkc.MolToSmiles(rkc.MolFromSmiles(smile))\n",
    "\n",
    "def delete_attachment(smile):\n",
    "    atta=rkc.MolFromSmiles('*')\n",
    "    mol=rkc.MolFromSmiles(smile)\n",
    "    rm=rkc.DeleteSubstructs(mol,atta)\n",
    "    return rkc.MolToSmiles(rm)\n",
    "\n",
    "def read_txt(filename):\n",
    "        with open(filename,'r') as fi:\n",
    "            li=fi.read()\n",
    "            li=re.split(r'[;\\n\\t]',li)\n",
    "            li=list(set(li))\n",
    "        return li\n",
    "\n",
    "def compared_smi(attached_smilist,frag_smilist):\n",
    "    target_smi=[]\n",
    "    for smile in attached_smilist:\n",
    "        if delete_attachment(smile) in frag_smilist:\n",
    "            target_smi.append(smile)\n",
    "    return target_smi\n",
    "    \n",
    "def saved_file(filename,target_smi):\n",
    "    with open('{}.txt'.format(filename),'a+') as f:\n",
    "        for smile in target_smi:\n",
    "            f.write(smile+'\\n')"
   ]
  },
  {
   "cell_type": "code",
   "execution_count": 11,
   "metadata": {},
   "outputs": [],
   "source": [
    "att=read_txt(r'D:\\科研\\微科研\\smiles比对\\drd2.recap.txt')\n",
    "attached_smilist=[]\n",
    "for smi in att:\n",
    "    if \"[*]\" in smi:\n",
    "        attached_smilist.append(smi)"
   ]
  },
  {
   "cell_type": "code",
   "execution_count": 12,
   "metadata": {},
   "outputs": [],
   "source": [
    "frag_smilist=read_txt(r'D:\\科研\\微科研\\片段库\\L8800_standrad.txt')"
   ]
  },
  {
   "cell_type": "code",
   "execution_count": 13,
   "metadata": {},
   "outputs": [
    {
     "data": {
      "text/plain": [
       "['[*]Nc1ccccn1',\n",
       " '[*]N1C(=O)COc2ccccc21',\n",
       " '[*]N1C(=O)c2cccc3cccc(c23)C1=O',\n",
       " '[*]Oc1ccc(C(=O)OC)cc1',\n",
       " '[*]c1cccs1',\n",
       " '[*]Nc1c(Cl)cccc1Cl',\n",
       " '[*]CCOc1ccccc1O',\n",
       " '[*]c1ccsc1',\n",
       " '[*]N1C(=O)CC2(CCCC2)CC1=O',\n",
       " '[*]N1C(=O)CCCc2ccccc21',\n",
       " '[*]NCCc1ccccn1',\n",
       " '[*]c1ccoc1',\n",
       " '[*]N1C(=O)CCc2cccnc21',\n",
       " '[*]NS(=O)(=O)c1cccc(Cl)c1',\n",
       " '[*]N1CCNC1=O',\n",
       " '[*]c1cc2ccccc2[nH]1',\n",
       " '[*]Nc1nccs1',\n",
       " '[*]c1cnco1',\n",
       " '[*]c1cccc(O)c1',\n",
       " '[*]N1CCOCC1',\n",
       " '[*]N1C(=O)c2ccccc2C1=O',\n",
       " '[*]c1cccnc1',\n",
       " '[*]NS(=O)(=O)c1ccccc1',\n",
       " '[*]Oc1ccc(NC(C)=O)cc1',\n",
       " '[*]Oc1ccccc1C(C)C',\n",
       " '[*]c1ccnnc1',\n",
       " '[*]N1CCCC1',\n",
       " '[*]N1CCN(CC=Cc2ccccc2)CC1',\n",
       " '[*]NCC1CCCN1CC',\n",
       " '[*]c1cccc(O)n1',\n",
       " '[*]c1ccco1',\n",
       " '[*]N1C(=O)CCc2ccccc21',\n",
       " '[*]c1nc2ccccc2[nH]1',\n",
       " '[*]Cc1nc2ccccc2[nH]1',\n",
       " '[*]N(C)CCc1ccccc1',\n",
       " '[*]Oc1ccc2ccc(=O)oc2c1',\n",
       " '[*]c1ccncc1',\n",
       " '[*]Oc1ccc2c(C)cc(=O)oc2c1',\n",
       " '[*]Oc1ccccc1OCC',\n",
       " '[*]NCc1ccccc1Cl',\n",
       " '[*]c1ccc2[nH]ccc2c1',\n",
       " '[*]c1ccc(O)cc1',\n",
       " '[*]Oc1ccccc1',\n",
       " '[*]OCc1ccc(Cl)cc1Cl',\n",
       " '[*]Oc1cccc2[nH]ccc12',\n",
       " '[*]NS(=O)(=O)c1cccs1',\n",
       " '[*]CNC(=O)c1ccc(Cl)cc1',\n",
       " '[*]Nc1ncccn1',\n",
       " '[*]c1cn2ccccc2n1',\n",
       " '[*]N1CCC(C(=O)c2ccc(F)cc2)CC1',\n",
       " '[*]c1cccc(N)n1',\n",
       " '[*]c1ccccn1',\n",
       " '[*]c1c[nH]c2ccccc12',\n",
       " '[*]N(C)S(=O)(=O)c1ccccc1',\n",
       " '[*]OC1CC2CCC(C1)N2C',\n",
       " '[*]C1Cc2ccccc2NC1=O',\n",
       " '[*]Cc1cc2ccccc2s1',\n",
       " '[*]Cc1cc2ccccc2o1',\n",
       " '[*]N1CCN(c2ccccc2OC)CC1']"
      ]
     },
     "execution_count": 13,
     "metadata": {},
     "output_type": "execute_result"
    }
   ],
   "source": [
    "target_smi=compared_smi(attached_smilist,frag_smilist)\n",
    "target_smi"
   ]
  }
 ],
 "metadata": {
  "kernelspec": {
   "display_name": "my-rdkit-env",
   "language": "python",
   "name": "python3"
  },
  "language_info": {
   "codemirror_mode": {
    "name": "ipython",
    "version": 3
   },
   "file_extension": ".py",
   "mimetype": "text/x-python",
   "name": "python",
   "nbconvert_exporter": "python",
   "pygments_lexer": "ipython3",
   "version": "3.7.15 (default, Nov 24 2022, 18:44:54) [MSC v.1916 64 bit (AMD64)]"
  },
  "metadata": {
   "interpreter": {
    "hash": "18b1dca27538a85da1d405f42011e9fe2ba7067507398046fe53e01d5f8248bb"
   }
  },
  "orig_nbformat": 2,
  "vscode": {
   "interpreter": {
    "hash": "65e5a2847fc55098a7e1b389e999e15404bb13c97d6fe9d3d4bc94be3f13865f"
   }
  }
 },
 "nbformat": 4,
 "nbformat_minor": 2
}
