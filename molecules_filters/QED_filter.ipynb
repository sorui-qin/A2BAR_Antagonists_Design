{
 "cells": [
  {
   "cell_type": "code",
   "execution_count": 1,
   "metadata": {},
   "outputs": [],
   "source": [
    "import rdkit.Chem as rkc\n",
    "from rdkit.Chem import Descriptors, QED"
   ]
  },
  {
   "cell_type": "code",
   "execution_count": 2,
   "metadata": {},
   "outputs": [],
   "source": [
    "filename = r'D:\\Research\\A2B\\a2b_lower_100nm.smi'\n",
    "\n",
    "with open(filename,'r') as fi:\n",
    "    smi_li = fi.read().split('\\n')\n",
    "mols = [rkc.MolFromSmiles(smi) for smi in smi_li]"
   ]
  },
  {
   "cell_type": "code",
   "execution_count": 3,
   "metadata": {},
   "outputs": [
    {
     "data": {
      "text/plain": [
       "425"
      ]
     },
     "execution_count": 3,
     "metadata": {},
     "output_type": "execute_result"
    }
   ],
   "source": [
    "QED_filted = []\n",
    "for mol in mols:\n",
    "    if QED.default(mol) >= 0.5:\n",
    "        QED_filted.append(rkc.MolToSmiles(mol))\n",
    "len(QED_filted)"
   ]
  },
  {
   "cell_type": "code",
   "execution_count": 9,
   "metadata": {},
   "outputs": [],
   "source": [
    "filted_fi = filename.split('.')[0] +'_QEDfilted.'+ filename.split('.')[1]\n",
    "with open(filted_fi,'w+') as wr:\n",
    "    for smi in QED_filted:\n",
    "        wr.write(smi+'\\n')\n",
    "    wr.close()"
   ]
  }
 ],
 "metadata": {
  "kernelspec": {
   "display_name": "my-rdkit-env",
   "language": "python",
   "name": "python3"
  },
  "language_info": {
   "codemirror_mode": {
    "name": "ipython",
    "version": 3
   },
   "file_extension": ".py",
   "mimetype": "text/x-python",
   "name": "python",
   "nbconvert_exporter": "python",
   "pygments_lexer": "ipython3",
   "version": "3.7.15"
  },
  "orig_nbformat": 4,
  "vscode": {
   "interpreter": {
    "hash": "65e5a2847fc55098a7e1b389e999e15404bb13c97d6fe9d3d4bc94be3f13865f"
   }
  }
 },
 "nbformat": 4,
 "nbformat_minor": 2
}
